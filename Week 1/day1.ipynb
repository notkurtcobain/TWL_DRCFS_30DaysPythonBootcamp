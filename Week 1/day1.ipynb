{
 "cells": [
  {
   "cell_type": "code",
   "execution_count": null,
   "metadata": {},
   "outputs": [],
   "source": [
    "print(\"hello world\")"
   ]
  },
  {
   "cell_type": "code",
   "execution_count": null,
   "metadata": {},
   "outputs": [],
   "source": [
    "# Get the user's name\n",
    "age_str = input(\"Kurt\")\n",
    "\n",
    "# convert string to int\n",
    "age= int(age_str)\n",
    "\n",
    "#compare user's age\n",
    "if age > 16:\n",
    "    print(\"you are eligible to drive\")\n",
    "else :\n",
    "    print(\"you are not eligible to drive\")"
   ]
  },
  {
   "cell_type": "code",
   "execution_count": null,
   "metadata": {},
   "outputs": [],
   "source": [
    "#Odd even\n",
    "\n",
    "for i in range(11):\n",
    "    if i % 2 == 0:\n",
    "        print(str(i) + 'is even')\n",
    "    else:\n",
    "        print(str(i) + 'is odd')"
   ]
  },
  {
   "cell_type": "code",
   "execution_count": null,
   "metadata": {},
   "outputs": [],
   "source": [
    "# Login System \n",
    "username = input(\"Enter your username\")\n",
    "password = input(\"Enter your password\")\n",
    "\n",
    "# username == 'Kurt' and password == 'cobain'\n",
    "if username == 'Kurt' and password == 'cobain':\n",
    "    print(\"Welcome Kurt\")\n",
    "elif username == 'Kobe' and password == 'bryant':\n",
    "    print(\"Welcome Kobe\")\n",
    "else: \n",
    "    print(\"invalid user\")"
   ]
  }
 ],
 "metadata": {
  "kernelspec": {
   "display_name": "Python 3.11.0 64-bit",
   "language": "python",
   "name": "python3"
  },
  "language_info": {
   "name": "python",
   "version": "3.11.0"
  },
  "orig_nbformat": 4,
  "vscode": {
   "interpreter": {
    "hash": "058216bca190b6eda23336dd2204bbce6073b8bcf4040a23ed8218e121a40400"
   }
  }
 },
 "nbformat": 4,
 "nbformat_minor": 2
}
